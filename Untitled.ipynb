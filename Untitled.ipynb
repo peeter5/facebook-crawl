{
 "cells": [
  {
   "cell_type": "code",
   "execution_count": 1,
   "id": "afbbbfa8-10ea-45e5-a591-a6c3a5609dbb",
   "metadata": {
    "tags": []
   },
   "outputs": [],
   "source": [
    "#login facebook\n",
    "from selenium.webdriver.common.by import By\n",
    "from selenium.webdriver.chrome.service import Service\n",
    "from webdriver_manager.chrome import ChromeDriverManager\n",
    "import time\n",
    "from selenium.webdriver.chrome.options import Options\n",
    "from selenium import webdriver\n",
    "\n",
    "options = Options()\n",
    "#options.add_argument('--headless')\n",
    "#options.add_argument('--no-sandbox')\n",
    "options.add_argument('--disable-dev-shm-usage')\n",
    "LOGIN_URL='https://www.facebook.com/'\n",
    "\n",
    "class ScawlFaceBook():\n",
    "    def __init__(self, email,password):\n",
    "        #store login creadentials\n",
    "        self.email=email\n",
    "        self.password=password\n",
    "        #set up wedriver\n",
    "        self.driver=webdriver.Chrome(service=Service(ChromeDriverManager().install()), options=options)\n",
    "        #Get login page\n",
    "        self.driver.get(LOGIN_URL)\n",
    "        time.sleep(3)\n",
    "        \n",
    "    def login(self):\n",
    "        #submit email\n",
    "        email_element=self.driver.find_element(By.ID, 'email')\n",
    "        email_element.send_keys(self.email)\n",
    "        time.sleep(2)\n",
    "        #submit password\n",
    "        password_element=self.driver.find_element(By.ID, 'pass')\n",
    "        password_element.send_keys(self.password)\n",
    "        time.sleep(2)\n",
    "        \n",
    "        #hit the login button\n",
    "        login_button=self.driver.find_element(By.NAME, 'login')\n",
    "        login_button.click()\n",
    "        time.sleep(2)\n",
    "    def find_friends(self):\n",
    "        friends=self.driver.find_element(By.CLASS_NAME,\"x1lliihq x6ikm8r x10wlt62 x1n2onr6\")\n",
    "        friends.click()\n",
    "if __name__=='__main__':\n",
    "    #Enter your login creadentials\n",
    "    fb_login=ScawlFaceBook(email=\"peterslap1998@gmail.com\",password= 'p235689')\n",
    "    fb_login.login()\n",
    "    \n",
    "\n"
   ]
  },
  {
   "cell_type": "code",
   "execution_count": null,
   "id": "6b1b7470-4fcd-4650-90c0-ec75a1aa3981",
   "metadata": {
    "tags": []
   },
   "outputs": [],
   "source": []
  },
  {
   "cell_type": "code",
   "execution_count": null,
   "id": "1af11f36-3b6a-4298-a3c5-6dfab8392c29",
   "metadata": {},
   "outputs": [],
   "source": []
  },
  {
   "cell_type": "code",
   "execution_count": null,
   "id": "2f9ed432-fc08-4ac9-bfe8-e4655646d1e7",
   "metadata": {},
   "outputs": [],
   "source": []
  },
  {
   "cell_type": "code",
   "execution_count": null,
   "id": "124b7fba-05af-470c-aaae-30cb6a59fb40",
   "metadata": {},
   "outputs": [],
   "source": []
  },
  {
   "cell_type": "code",
   "execution_count": null,
   "id": "968aee8b-c8f0-4b2c-a328-51e059e07583",
   "metadata": {},
   "outputs": [],
   "source": []
  },
  {
   "cell_type": "code",
   "execution_count": null,
   "id": "ed92a876-8c01-4b81-8a39-01b8ded9770a",
   "metadata": {},
   "outputs": [],
   "source": []
  }
 ],
 "metadata": {
  "kernelspec": {
   "display_name": "Python 3 (ipykernel)",
   "language": "python",
   "name": "python3"
  },
  "language_info": {
   "codemirror_mode": {
    "name": "ipython",
    "version": 3
   },
   "file_extension": ".py",
   "mimetype": "text/x-python",
   "name": "python",
   "nbconvert_exporter": "python",
   "pygments_lexer": "ipython3",
   "version": "3.8.10"
  }
 },
 "nbformat": 4,
 "nbformat_minor": 5
}
